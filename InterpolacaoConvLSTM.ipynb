{
  "nbformat": 4,
  "nbformat_minor": 0,
  "metadata": {
    "colab": {
      "provenance": [],
      "collapsed_sections": []
    },
    "kernelspec": {
      "name": "python3",
      "display_name": "Python 3"
    },
    "language_info": {
      "name": "python"
    }
  },
  "cells": [
    {
      "cell_type": "code",
      "source": [
        "import numpy as np\n",
        "import h5py\n",
        "import pandas as pd\n",
        "from sklearn.model_selection import train_test_split"
      ],
      "metadata": {
        "id": "5Vfbisknpjg8"
      },
      "execution_count": null,
      "outputs": []
    },
    {
      "cell_type": "code",
      "source": [
        "from google.colab import drive\n",
        "drive.mount('/content/drive')"
      ],
      "metadata": {
        "colab": {
          "base_uri": "https://localhost:8080/"
        },
        "id": "kZX2sGpEpo-l",
        "outputId": "fc8a1dff-34a8-4fa7-949c-30254b2f5bf8"
      },
      "execution_count": null,
      "outputs": [
        {
          "output_type": "stream",
          "name": "stdout",
          "text": [
            "Drive already mounted at /content/drive; to attempt to forcibly remount, call drive.mount(\"/content/drive\", force_remount=True).\n"
          ]
        }
      ]
    },
    {
      "cell_type": "markdown",
      "source": [
        "* Aqui eu carrego os dados gerados anteriormente\n"
      ],
      "metadata": {
        "id": "1j7jgvF_GhLk"
      }
    },
    {
      "cell_type": "code",
      "source": [
        "Dado = np.load('/content/drive/MyDrive/Colab Notebooks/15-02-2022/valoresInterpolados.npy')"
      ],
      "metadata": {
        "id": "o0xXWbcIpfzT"
      },
      "execution_count": null,
      "outputs": []
    },
    {
      "cell_type": "code",
      "source": [
        "np.max(Dado)"
      ],
      "metadata": {
        "colab": {
          "base_uri": "https://localhost:8080/"
        },
        "id": "mtIgHdh3o-jb",
        "outputId": "7f6f736b-7d0e-4a85-d220-bb776abaf797"
      },
      "execution_count": null,
      "outputs": [
        {
          "output_type": "execute_result",
          "data": {
            "text/plain": [
              "0.42492004797522065"
            ]
          },
          "metadata": {},
          "execution_count": 93
        }
      ]
    },
    {
      "cell_type": "code",
      "source": [
        "np.min(Dado)"
      ],
      "metadata": {
        "id": "Pe81nhxEpSl0",
        "outputId": "d462a265-e569-4512-c4f0-7aedf6650bda",
        "colab": {
          "base_uri": "https://localhost:8080/"
        }
      },
      "execution_count": null,
      "outputs": [
        {
          "output_type": "execute_result",
          "data": {
            "text/plain": [
              "0.0"
            ]
          },
          "metadata": {},
          "execution_count": 94
        }
      ]
    },
    {
      "cell_type": "code",
      "source": [
        "Dado.shape"
      ],
      "metadata": {
        "colab": {
          "base_uri": "https://localhost:8080/"
        },
        "id": "-lDB7eNiD7Y2",
        "outputId": "e66c8705-d313-4235-e34f-00de98d047d5"
      },
      "execution_count": null,
      "outputs": [
        {
          "output_type": "execute_result",
          "data": {
            "text/plain": [
              "(384, 36, 15, 1)"
            ]
          },
          "metadata": {},
          "execution_count": 95
        }
      ]
    },
    {
      "cell_type": "markdown",
      "source": [
        "* Divisão do meu dataset em treino, validação e teste"
      ],
      "metadata": {
        "id": "UxwpoJIYGmB2"
      }
    },
    {
      "cell_type": "code",
      "source": [
        "hdf = h5py.File('data.h5', 'w')\n",
        "hdf.create_dataset('Treino', data = Dado)\n",
        "hdf.create_dataset('Validacao', data = Dado)\n",
        "hdf.create_dataset('Teste', data = Dado)\n",
        "\n",
        "hdf.close()"
      ],
      "metadata": {
        "id": "bBkd-0kgtzeI"
      },
      "execution_count": null,
      "outputs": []
    },
    {
      "cell_type": "code",
      "source": [
        "def LerH5(DATA,Chave):\n",
        "    import h5py\n",
        "    import os.path as path\n",
        "    import numpy as np  \n",
        "    if path.exists(DATA):\n",
        "        with h5py.File(DATA,'r') as f:\n",
        "            real = f[Chave][...]\n",
        "\n",
        "    return(real)"
      ],
      "metadata": {
        "id": "_2zy__VD7JtD"
      },
      "execution_count": null,
      "outputs": []
    },
    {
      "cell_type": "code",
      "source": [
        "def ExtrairChaves(DATA):\n",
        "    import h5py\n",
        "    import os.path as path\n",
        "    import numpy as np  \n",
        "    if path.exists(DATA):\n",
        "        f = h5py.File(DATA, 'r')\n",
        "        return(f.keys() )\n",
        "    #return(real)"
      ],
      "metadata": {
        "id": "ye7s0WuU23Ko"
      },
      "execution_count": null,
      "outputs": []
    },
    {
      "cell_type": "code",
      "source": [
        "ExtrairChaves('data.h5')"
      ],
      "metadata": {
        "colab": {
          "base_uri": "https://localhost:8080/"
        },
        "id": "3vq47tAe681l",
        "outputId": "28940002-75be-40a0-ed2d-6f0d803eec92"
      },
      "execution_count": null,
      "outputs": [
        {
          "output_type": "execute_result",
          "data": {
            "text/plain": [
              "<KeysViewHDF5 ['Teste', 'Treino', 'Validacao']>"
            ]
          },
          "metadata": {},
          "execution_count": 99
        }
      ]
    },
    {
      "cell_type": "code",
      "source": [
        "Treino=LerH5('data.h5','/Treino')\n",
        "Validacao=LerH5('data.h5','/Validacao')\n",
        "Teste=LerH5('data.h5','/Teste')"
      ],
      "metadata": {
        "id": "BioZCtqT9rjl"
      },
      "execution_count": null,
      "outputs": []
    },
    {
      "cell_type": "code",
      "source": [
        "Teste.shape"
      ],
      "metadata": {
        "colab": {
          "base_uri": "https://localhost:8080/"
        },
        "id": "-YlIFVp3-q-S",
        "outputId": "a4dc7397-7da4-4f2c-dc97-25d5d84115f1"
      },
      "execution_count": null,
      "outputs": [
        {
          "output_type": "execute_result",
          "data": {
            "text/plain": [
              "(384, 36, 15, 1)"
            ]
          },
          "metadata": {},
          "execution_count": 101
        }
      ]
    },
    {
      "cell_type": "code",
      "source": [
        "dados = np.concatenate([Treino, Validacao, Teste])"
      ],
      "metadata": {
        "id": "JozgRz-7-Egm"
      },
      "execution_count": null,
      "outputs": []
    },
    {
      "cell_type": "code",
      "source": [
        "treinamento_x, validacao_x = train_test_split(dados, test_size=0.3)"
      ],
      "metadata": {
        "id": "6UghC1gq5ygn"
      },
      "execution_count": null,
      "outputs": []
    },
    {
      "cell_type": "code",
      "source": [
        "validacao_x, teste_x = train_test_split(dados, test_size=0.5)"
      ],
      "metadata": {
        "id": "fT2FxsO4v1xN"
      },
      "execution_count": null,
      "outputs": []
    },
    {
      "cell_type": "code",
      "source": [
        "treinamento_y = treinamento_x\n",
        "validacao_y = validacao_x\n",
        "teste_y = teste_x"
      ],
      "metadata": {
        "id": "XENFndJ97JXP"
      },
      "execution_count": null,
      "outputs": []
    },
    {
      "cell_type": "code",
      "source": [
        "temp_pattern = 10 #quantas medidas passadas serão usadas para prever as medidas para frente\n",
        "batch_size = 1 #corresponde ao valor de amostras que serão processadas em conjunto durante o processo de optimização\n",
        "NumeroDeModelos = 1 #atributos utilizados"
      ],
      "metadata": {
        "id": "bJH6gwsfwNon"
      },
      "execution_count": null,
      "outputs": []
    },
    {
      "cell_type": "code",
      "source": [
        "#Modelo\n",
        "from keras.models import Sequential\n",
        "from keras.layers import ConvLSTM2D,BatchNormalization,Conv3D\n",
        "\n",
        "model = Sequential([\n",
        "ConvLSTM2D(filters=32, kernel_size=(3, 3), input_shape=(None, 36, 15, NumeroDeModelos), padding='same', return_sequences=True, use_bias=True),#padding='same' -> mesma estrutura de entrada e saida, não perde dimensão no espaço\n",
        "BatchNormalization(),\n",
        "\n",
        "ConvLSTM2D(filters=64, kernel_size=(3, 3), padding='same', return_sequences=True, use_bias=True, recurrent_dropout=.5),\n",
        "BatchNormalization(),\n",
        "\n",
        "Conv3D(filters=1, kernel_size=(3,3,3), padding='same', data_format='channels_last')#conv (espaço, espaço, canais) -> data_format='channels_last'\n",
        "])\n",
        "\n",
        "model.compile(loss='mse', optimizer='adam', metrics=['mse'])"
      ],
      "metadata": {
        "id": "Lsj-6wJRwItz"
      },
      "execution_count": null,
      "outputs": []
    },
    {
      "cell_type": "code",
      "source": [
        "model.summary()"
      ],
      "metadata": {
        "colab": {
          "base_uri": "https://localhost:8080/"
        },
        "id": "3R-b0J2EwSDM",
        "outputId": "4ec04532-054d-4b43-d9ad-ceecf808af5e"
      },
      "execution_count": null,
      "outputs": [
        {
          "output_type": "stream",
          "name": "stdout",
          "text": [
            "Model: \"sequential_1\"\n",
            "_________________________________________________________________\n",
            " Layer (type)                Output Shape              Param #   \n",
            "=================================================================\n",
            " conv_lstm2d_2 (ConvLSTM2D)  (None, None, 36, 15, 32)  38144     \n",
            "                                                                 \n",
            " batch_normalization_2 (Batc  (None, None, 36, 15, 32)  128      \n",
            " hNormalization)                                                 \n",
            "                                                                 \n",
            " conv_lstm2d_3 (ConvLSTM2D)  (None, None, 36, 15, 64)  221440    \n",
            "                                                                 \n",
            " batch_normalization_3 (Batc  (None, None, 36, 15, 64)  256      \n",
            " hNormalization)                                                 \n",
            "                                                                 \n",
            " conv3d_1 (Conv3D)           (None, None, 36, 15, 1)   1729      \n",
            "                                                                 \n",
            "=================================================================\n",
            "Total params: 261,697\n",
            "Trainable params: 261,505\n",
            "Non-trainable params: 192\n",
            "_________________________________________________________________\n"
          ]
        }
      ]
    },
    {
      "cell_type": "code",
      "source": [
        "#A seguir temos o gerador que ira refazer o mapeamento do tensor de 3 dimensoes em 5\n",
        "#Com isto podemos passar os dados para o modelo ser treinado sem significante custo de memoria\n",
        "#Este recebe como parametros o tensor de treinamento, \n",
        "                        #o numero de medidas temporais\n",
        "                        #O numero de amostras a serem geradas em um batch\n",
        "def myGeneratorT(data, temp_pattern, batch_size=1):\n",
        "    print(data.shape)\n",
        "    while 1 :\n",
        "        for i in range(int(data.shape[0]/batch_size)-temp_pattern-batch_size):\n",
        "          j = i*batch_size\n",
        "          for b in range(batch_size):\n",
        "            train_X = np.zeros((1,temp_pattern,data.shape[1],data.shape[2],1),dtype=float)\n",
        "            train_Y = np.zeros((1,temp_pattern,data.shape[1],data.shape[2],1),dtype=float)\n",
        "            train_X[0,:,:,:,:] = data[(j+b):(j+b)+temp_pattern,:,:]\n",
        "            train_Y[0,:,:,:,:] = data[(j+b+1):(j+b+1)+temp_pattern,:,:]\n",
        "            if b == 0:\n",
        "              X = train_X\n",
        "              Y = train_Y\n",
        "            else:\n",
        "              X = np.concatenate((X,train_X), axis=0)\n",
        "              Y = np.concatenate((Y, train_Y), axis=0)\n",
        "          yield X, Y #retorna em demanda vai salvando o estado (gerador permite isso)"
      ],
      "metadata": {
        "id": "JuDEatpYwZmL"
      },
      "execution_count": null,
      "outputs": []
    },
    {
      "cell_type": "code",
      "source": [
        "Treino.shape"
      ],
      "metadata": {
        "colab": {
          "base_uri": "https://localhost:8080/"
        },
        "id": "65LAuZoqDoN2",
        "outputId": "62af60c4-96a4-4679-a621-dced62ac2ee9"
      },
      "execution_count": null,
      "outputs": [
        {
          "output_type": "execute_result",
          "data": {
            "text/plain": [
              "(384, 36, 15, 1)"
            ]
          },
          "metadata": {},
          "execution_count": 110
        }
      ]
    },
    {
      "cell_type": "code",
      "source": [
        "from keras.callbacks import ModelCheckpoint\n",
        "\n",
        "EPOCHS=20\n",
        "\n",
        "mc = ModelCheckpoint('best_Model_2.h5', monitor='val_loss', mode='min', verbose=1, save_best_only=True)\n",
        "callbacks = [mc]\n",
        "\n",
        "\n",
        "H = model.fit_generator(myGeneratorT(Treino\n",
        "                                     ,temp_pattern), steps_per_epoch=Treino.shape[0]/2, \n",
        "                        validation_data=(myGeneratorT(Validacao\n",
        "                                                      ,temp_pattern)), \n",
        "                        validation_steps=Validacao.shape[0]/2, callbacks=callbacks, epochs = EPOCHS, verbose=1)"
      ],
      "metadata": {
        "id": "K7tV0Zk60G5V",
        "colab": {
          "base_uri": "https://localhost:8080/"
        },
        "outputId": "0879bb82-d20f-4fee-85f0-80d28015ec3c"
      },
      "execution_count": null,
      "outputs": [
        {
          "output_type": "stream",
          "name": "stdout",
          "text": [
            "(384, 36, 15, 1)\n",
            "Epoch 1/20\n"
          ]
        },
        {
          "output_type": "stream",
          "name": "stderr",
          "text": [
            "/usr/local/lib/python3.7/dist-packages/ipykernel_launcher.py:13: UserWarning: `Model.fit_generator` is deprecated and will be removed in a future version. Please use `Model.fit`, which supports generators.\n",
            "  del sys.path[0]\n"
          ]
        },
        {
          "output_type": "stream",
          "name": "stdout",
          "text": [
            "192/192 [==============================] - ETA: 0s - loss: 0.0476 - mse: 0.0476(384, 36, 15, 1)\n",
            "\n",
            "Epoch 1: val_loss improved from inf to 0.00346, saving model to best_Model_2.h5\n",
            "192/192 [==============================] - 103s 508ms/step - loss: 0.0476 - mse: 0.0476 - val_loss: 0.0035 - val_mse: 0.0035\n",
            "Epoch 2/20\n",
            "192/192 [==============================] - ETA: 0s - loss: 0.0015 - mse: 0.0015\n",
            "Epoch 2: val_loss improved from 0.00346 to 0.00104, saving model to best_Model_2.h5\n",
            "192/192 [==============================] - 99s 516ms/step - loss: 0.0015 - mse: 0.0015 - val_loss: 0.0010 - val_mse: 0.0010\n",
            "Epoch 3/20\n",
            "192/192 [==============================] - ETA: 0s - loss: 0.0035 - mse: 0.0035\n",
            "Epoch 3: val_loss did not improve from 0.00104\n",
            "192/192 [==============================] - 104s 542ms/step - loss: 0.0035 - mse: 0.0035 - val_loss: 0.0024 - val_mse: 0.0024\n",
            "Epoch 4/20\n",
            "192/192 [==============================] - ETA: 0s - loss: 7.8193e-04 - mse: 7.8193e-04\n",
            "Epoch 4: val_loss improved from 0.00104 to 0.00098, saving model to best_Model_2.h5\n",
            "192/192 [==============================] - 101s 528ms/step - loss: 7.8193e-04 - mse: 7.8193e-04 - val_loss: 9.8300e-04 - val_mse: 9.8300e-04\n",
            "Epoch 5/20\n",
            "192/192 [==============================] - ETA: 0s - loss: 0.0015 - mse: 0.0015\n",
            "Epoch 5: val_loss improved from 0.00098 to 0.00081, saving model to best_Model_2.h5\n",
            "192/192 [==============================] - 103s 535ms/step - loss: 0.0015 - mse: 0.0015 - val_loss: 8.0544e-04 - val_mse: 8.0544e-04\n",
            "Epoch 6/20\n",
            "192/192 [==============================] - ETA: 0s - loss: 5.2165e-04 - mse: 5.2165e-04\n",
            "Epoch 6: val_loss did not improve from 0.00081\n",
            "192/192 [==============================] - 103s 538ms/step - loss: 5.2165e-04 - mse: 5.2165e-04 - val_loss: 0.0011 - val_mse: 0.0011\n",
            "Epoch 7/20\n",
            "192/192 [==============================] - ETA: 0s - loss: 0.0011 - mse: 0.0011\n",
            "Epoch 7: val_loss improved from 0.00081 to 0.00079, saving model to best_Model_2.h5\n",
            "192/192 [==============================] - 102s 532ms/step - loss: 0.0011 - mse: 0.0011 - val_loss: 7.8856e-04 - val_mse: 7.8856e-04\n",
            "Epoch 8/20\n",
            "192/192 [==============================] - ETA: 0s - loss: 4.4883e-04 - mse: 4.4883e-04\n",
            "Epoch 8: val_loss improved from 0.00079 to 0.00051, saving model to best_Model_2.h5\n",
            "192/192 [==============================] - 104s 542ms/step - loss: 4.4883e-04 - mse: 4.4883e-04 - val_loss: 5.1035e-04 - val_mse: 5.1035e-04\n",
            "Epoch 9/20\n",
            "192/192 [==============================] - ETA: 0s - loss: 9.0561e-04 - mse: 9.0562e-04\n",
            "Epoch 9: val_loss did not improve from 0.00051\n",
            "192/192 [==============================] - 103s 535ms/step - loss: 9.0561e-04 - mse: 9.0562e-04 - val_loss: 6.5563e-04 - val_mse: 6.5563e-04\n",
            "Epoch 10/20\n",
            "192/192 [==============================] - ETA: 0s - loss: 4.0024e-04 - mse: 4.0024e-04\n",
            "Epoch 10: val_loss did not improve from 0.00051\n",
            "192/192 [==============================] - 103s 536ms/step - loss: 4.0024e-04 - mse: 4.0024e-04 - val_loss: 0.0019 - val_mse: 0.0019\n",
            "Epoch 11/20\n",
            "192/192 [==============================] - ETA: 0s - loss: 7.1642e-04 - mse: 7.1643e-04\n",
            "Epoch 11: val_loss improved from 0.00051 to 0.00023, saving model to best_Model_2.h5\n",
            "192/192 [==============================] - 103s 537ms/step - loss: 7.1642e-04 - mse: 7.1643e-04 - val_loss: 2.2921e-04 - val_mse: 2.2921e-04\n",
            "Epoch 12/20\n",
            "192/192 [==============================] - ETA: 0s - loss: 5.7823e-04 - mse: 5.7823e-04\n",
            "Epoch 12: val_loss did not improve from 0.00023\n",
            "192/192 [==============================] - 105s 548ms/step - loss: 5.7823e-04 - mse: 5.7823e-04 - val_loss: 0.0018 - val_mse: 0.0018\n",
            "Epoch 13/20\n",
            "192/192 [==============================] - ETA: 0s - loss: 3.4098e-04 - mse: 3.4098e-04\n",
            "Epoch 13: val_loss did not improve from 0.00023\n",
            "192/192 [==============================] - 107s 557ms/step - loss: 3.4098e-04 - mse: 3.4098e-04 - val_loss: 2.4866e-04 - val_mse: 2.4866e-04\n",
            "Epoch 14/20\n",
            "192/192 [==============================] - ETA: 0s - loss: 5.8580e-04 - mse: 5.8580e-04\n",
            "Epoch 14: val_loss did not improve from 0.00023\n",
            "192/192 [==============================] - 102s 531ms/step - loss: 5.8580e-04 - mse: 5.8580e-04 - val_loss: 0.0022 - val_mse: 0.0022\n",
            "Epoch 15/20\n",
            "192/192 [==============================] - ETA: 0s - loss: 2.4062e-04 - mse: 2.4062e-04\n",
            "Epoch 15: val_loss improved from 0.00023 to 0.00019, saving model to best_Model_2.h5\n",
            "192/192 [==============================] - 103s 537ms/step - loss: 2.4062e-04 - mse: 2.4062e-04 - val_loss: 1.9436e-04 - val_mse: 1.9436e-04\n",
            "Epoch 16/20\n",
            "192/192 [==============================] - ETA: 0s - loss: 5.4752e-04 - mse: 5.4752e-04\n",
            "Epoch 16: val_loss did not improve from 0.00019\n",
            "192/192 [==============================] - 103s 536ms/step - loss: 5.4752e-04 - mse: 5.4752e-04 - val_loss: 0.0025 - val_mse: 0.0025\n",
            "Epoch 17/20\n",
            "192/192 [==============================] - ETA: 0s - loss: 1.9750e-04 - mse: 1.9750e-04\n",
            "Epoch 17: val_loss improved from 0.00019 to 0.00015, saving model to best_Model_2.h5\n",
            "192/192 [==============================] - 105s 548ms/step - loss: 1.9750e-04 - mse: 1.9750e-04 - val_loss: 1.4749e-04 - val_mse: 1.4749e-04\n",
            "Epoch 18/20\n",
            "192/192 [==============================] - ETA: 0s - loss: 5.1832e-04 - mse: 5.1832e-04\n",
            "Epoch 18: val_loss did not improve from 0.00015\n",
            "192/192 [==============================] - 102s 532ms/step - loss: 5.1832e-04 - mse: 5.1832e-04 - val_loss: 0.0015 - val_mse: 0.0015\n",
            "Epoch 19/20\n",
            "192/192 [==============================] - ETA: 0s - loss: 1.9236e-04 - mse: 1.9236e-04\n",
            "Epoch 19: val_loss did not improve from 0.00015\n",
            "192/192 [==============================] - 103s 539ms/step - loss: 1.9236e-04 - mse: 1.9236e-04 - val_loss: 1.5023e-04 - val_mse: 1.5023e-04\n",
            "Epoch 20/20\n",
            "192/192 [==============================] - ETA: 0s - loss: 5.0377e-04 - mse: 5.0377e-04\n",
            "Epoch 20: val_loss did not improve from 0.00015\n",
            "192/192 [==============================] - 108s 562ms/step - loss: 5.0377e-04 - mse: 5.0377e-04 - val_loss: 0.0012 - val_mse: 0.0012\n"
          ]
        }
      ]
    },
    {
      "cell_type": "code",
      "source": [
        "from keras.models import load_model\n",
        "Modelo=load_model('best_Model_2.h5')\n",
        "Modelo.compile(loss='mse', optimizer='adam', metrics=['mse'])"
      ],
      "metadata": {
        "id": "a-UYbxAm0cQG"
      },
      "execution_count": null,
      "outputs": []
    },
    {
      "cell_type": "code",
      "source": [
        "#Treino\n",
        "Modelo.evaluate_generator(myGeneratorT(Treino,temp_pattern, batch_size),workers=1, use_multiprocessing=False, steps=Treino.shape[0],verbose=1)"
      ],
      "metadata": {
        "id": "HQeVMQpXC6oo",
        "colab": {
          "base_uri": "https://localhost:8080/"
        },
        "outputId": "08d92939-dbbf-4766-f440-6da7d0e92862"
      },
      "execution_count": null,
      "outputs": [
        {
          "output_type": "stream",
          "name": "stderr",
          "text": [
            "/usr/local/lib/python3.7/dist-packages/ipykernel_launcher.py:2: UserWarning: `Model.evaluate_generator` is deprecated and will be removed in a future version. Please use `Model.evaluate`, which supports generators.\n",
            "  \n"
          ]
        },
        {
          "output_type": "stream",
          "name": "stdout",
          "text": [
            "(384, 36, 15, 1)\n",
            "384/384 [==============================] - 36s 91ms/step - loss: 3.3337e-04 - mse: 3.3337e-04\n"
          ]
        },
        {
          "output_type": "execute_result",
          "data": {
            "text/plain": [
              "[0.00033336805063299835, 0.0003333685453981161]"
            ]
          },
          "metadata": {},
          "execution_count": 113
        }
      ]
    },
    {
      "cell_type": "code",
      "source": [
        "#Validacao\n",
        "Modelo.evaluate_generator(myGeneratorT(Validacao,temp_pattern, batch_size),workers=1, use_multiprocessing=False, steps=Validacao.shape[0],verbose=1)"
      ],
      "metadata": {
        "id": "JzXPvyRkDHlg",
        "colab": {
          "base_uri": "https://localhost:8080/"
        },
        "outputId": "9bba6d1e-ac06-40ad-ce98-cfa6b532dbe4"
      },
      "execution_count": null,
      "outputs": [
        {
          "output_type": "stream",
          "name": "stdout",
          "text": [
            "(384, 36, 15, 1)\n",
            "\r  1/384 [..............................] - ETA: 49s - loss: 4.1005e-04 - mse: 4.1005e-04"
          ]
        },
        {
          "output_type": "stream",
          "name": "stderr",
          "text": [
            "/usr/local/lib/python3.7/dist-packages/ipykernel_launcher.py:2: UserWarning: `Model.evaluate_generator` is deprecated and will be removed in a future version. Please use `Model.evaluate`, which supports generators.\n",
            "  \n"
          ]
        },
        {
          "output_type": "stream",
          "name": "stdout",
          "text": [
            "384/384 [==============================] - 35s 91ms/step - loss: 3.3337e-04 - mse: 3.3337e-04\n"
          ]
        },
        {
          "output_type": "execute_result",
          "data": {
            "text/plain": [
              "[0.00033336805063299835, 0.0003333685453981161]"
            ]
          },
          "metadata": {},
          "execution_count": 114
        }
      ]
    },
    {
      "cell_type": "code",
      "source": [
        "#Teste\n",
        "Modelo.evaluate_generator(myGeneratorT(Teste,temp_pattern, batch_size),workers=1, use_multiprocessing=False, steps=Teste.shape[0],verbose=1)"
      ],
      "metadata": {
        "id": "F6-YOeMFDIbV",
        "colab": {
          "base_uri": "https://localhost:8080/"
        },
        "outputId": "d3cf955d-4444-42be-f611-5c7b97782e29"
      },
      "execution_count": null,
      "outputs": [
        {
          "output_type": "stream",
          "name": "stdout",
          "text": [
            "(384, 36, 15, 1)\n",
            "  1/384 [..............................] - ETA: 45s - loss: 4.1005e-04 - mse: 4.1005e-04"
          ]
        },
        {
          "output_type": "stream",
          "name": "stderr",
          "text": [
            "/usr/local/lib/python3.7/dist-packages/ipykernel_launcher.py:2: UserWarning: `Model.evaluate_generator` is deprecated and will be removed in a future version. Please use `Model.evaluate`, which supports generators.\n",
            "  \n"
          ]
        },
        {
          "output_type": "stream",
          "name": "stdout",
          "text": [
            "384/384 [==============================] - 35s 91ms/step - loss: 3.3337e-04 - mse: 3.3337e-04\n"
          ]
        },
        {
          "output_type": "execute_result",
          "data": {
            "text/plain": [
              "[0.00033336805063299835, 0.0003333685453981161]"
            ]
          },
          "metadata": {},
          "execution_count": 115
        }
      ]
    },
    {
      "cell_type": "code",
      "source": [
        "k=30"
      ],
      "metadata": {
        "id": "hxMvVUr8I_20"
      },
      "execution_count": null,
      "outputs": []
    },
    {
      "cell_type": "code",
      "source": [
        "Prev=Modelo.predict_generator(myGeneratorT(Teste[0:k:,:,:],10, 1),workers=1, use_multiprocessing=False, steps=Teste[0:k:,:,:].shape[0])"
      ],
      "metadata": {
        "id": "SsT-cMLxJDKh",
        "colab": {
          "base_uri": "https://localhost:8080/"
        },
        "outputId": "559c0f91-e2b7-4996-9c32-aa66687b275f"
      },
      "execution_count": null,
      "outputs": [
        {
          "output_type": "stream",
          "name": "stdout",
          "text": [
            "(30, 36, 15, 1)\n"
          ]
        },
        {
          "output_type": "stream",
          "name": "stderr",
          "text": [
            "/usr/local/lib/python3.7/dist-packages/ipykernel_launcher.py:1: UserWarning: `Model.predict_generator` is deprecated and will be removed in a future version. Please use `Model.predict`, which supports generators.\n",
            "  \"\"\"Entry point for launching an IPython kernel.\n"
          ]
        }
      ]
    },
    {
      "cell_type": "code",
      "source": [
        "Prev.shape"
      ],
      "metadata": {
        "id": "bWE1SjWMJFqJ",
        "colab": {
          "base_uri": "https://localhost:8080/"
        },
        "outputId": "345f708d-19ca-446e-e326-82bbe1d1ba7f"
      },
      "execution_count": null,
      "outputs": [
        {
          "output_type": "execute_result",
          "data": {
            "text/plain": [
              "(30, 10, 36, 15, 1)"
            ]
          },
          "metadata": {},
          "execution_count": 118
        }
      ]
    },
    {
      "cell_type": "code",
      "source": [
        "Previsao=Prev[:,-1,:,:]"
      ],
      "metadata": {
        "id": "xmRmZyzYJIir"
      },
      "execution_count": null,
      "outputs": []
    },
    {
      "cell_type": "code",
      "metadata": {
        "id": "kMenTRSXD-pk"
      },
      "source": [
        "Real=Teste[temp_pattern:(temp_pattern+k),:,:]"
      ],
      "execution_count": null,
      "outputs": []
    },
    {
      "cell_type": "code",
      "metadata": {
        "id": "eo8GTgKfD-pk",
        "colab": {
          "base_uri": "https://localhost:8080/"
        },
        "outputId": "92b26239-3441-408d-c9e0-fbe9d50022c8"
      },
      "source": [
        "Real.shape"
      ],
      "execution_count": null,
      "outputs": [
        {
          "output_type": "execute_result",
          "data": {
            "text/plain": [
              "(30, 36, 15, 1)"
            ]
          },
          "metadata": {},
          "execution_count": 121
        }
      ]
    },
    {
      "cell_type": "code",
      "metadata": {
        "id": "L8ZTetDHD-pk"
      },
      "source": [
        "Previsao.shape=(k,36,15,1)"
      ],
      "execution_count": null,
      "outputs": []
    },
    {
      "cell_type": "markdown",
      "source": [
        "associação do erro com o valor da medida, correlação do erro e valor medida em relação ao tempo, quais os pontos espaciais q tem < e > erro"
      ],
      "metadata": {
        "id": "dfXLxUq_K6jL"
      }
    },
    {
      "cell_type": "markdown",
      "metadata": {
        "id": "TiuU0HAUD-pk"
      },
      "source": [
        "Calculando os residuals da previsao de chuva e os visualizando"
      ]
    },
    {
      "cell_type": "code",
      "metadata": {
        "id": "SP3nqpqSD-pl"
      },
      "source": [
        "Residuals=np.abs(Previsao-Real)"
      ],
      "execution_count": null,
      "outputs": []
    },
    {
      "cell_type": "code",
      "source": [
        "Residuals[0,:,:,0].reshape(-1).shape"
      ],
      "metadata": {
        "colab": {
          "base_uri": "https://localhost:8080/"
        },
        "id": "UkAQf3KBLamr",
        "outputId": "a3e0cd48-2028-4f20-a630-b2650d73bd31"
      },
      "execution_count": null,
      "outputs": [
        {
          "output_type": "execute_result",
          "data": {
            "text/plain": [
              "(540,)"
            ]
          },
          "metadata": {},
          "execution_count": 124
        }
      ]
    },
    {
      "cell_type": "code",
      "source": [
        "Previsao[0,:,:,0].reshape(-1).shape"
      ],
      "metadata": {
        "colab": {
          "base_uri": "https://localhost:8080/"
        },
        "id": "BPqPsbkVL5gW",
        "outputId": "06604ab1-1855-44fd-8998-873b84f87cd0"
      },
      "execution_count": null,
      "outputs": [
        {
          "output_type": "execute_result",
          "data": {
            "text/plain": [
              "(540,)"
            ]
          },
          "metadata": {},
          "execution_count": 125
        }
      ]
    },
    {
      "cell_type": "markdown",
      "source": [
        "* 1 analise: como o modelo se comporta pra prever a quantidade de chuva ignorando escala quando n tem uma correlação tendendo a 1 (mais interessante) LISTA 1\n",
        "* 2 analise do erro relativo: trato a escala, ainda esta tendo o efeito de maior a medida maior o erro? (valor real muito pewueno, erro alto) LISTA 2\n",
        "* 3 analise: eliminar o risco do 0 influenciar a decisao, (confiança q vai chover só n sabe a quantidade), usamos o logico para ver quando vai chover no instante de tempo"
      ],
      "metadata": {
        "id": "LB3yfGLbYB7t"
      }
    },
    {
      "cell_type": "code",
      "source": [
        "#erro absoluto (nao faz a normalização)\n",
        "np.corrcoef(Residuals[0,:,:,0].reshape(-1), Real[0,:,:,0].reshape(-1))"
      ],
      "metadata": {
        "colab": {
          "base_uri": "https://localhost:8080/"
        },
        "id": "vvP72FbVL-jn",
        "outputId": "b0a1f210-aabb-4fa2-96c4-4812b9e8466a"
      },
      "execution_count": null,
      "outputs": [
        {
          "output_type": "stream",
          "name": "stderr",
          "text": [
            "/usr/local/lib/python3.7/dist-packages/numpy/lib/function_base.py:2691: RuntimeWarning: invalid value encountered in true_divide\n",
            "  c /= stddev[:, None]\n",
            "/usr/local/lib/python3.7/dist-packages/numpy/lib/function_base.py:2692: RuntimeWarning: invalid value encountered in true_divide\n",
            "  c /= stddev[None, :]\n"
          ]
        },
        {
          "output_type": "execute_result",
          "data": {
            "text/plain": [
              "array([[ 1., nan],\n",
              "       [nan, nan]])"
            ]
          },
          "metadata": {},
          "execution_count": 126
        }
      ]
    },
    {
      "cell_type": "code",
      "source": [
        "lista = []\n",
        "for i in range(Residuals.shape[0]):  \n",
        "  lista.append((np.corrcoef((Residuals/(Real + 10**(-4)))[i,:,:,0].reshape(-1), Real[i,:,:,0].reshape(-1)))[0,1])"
      ],
      "metadata": {
        "colab": {
          "base_uri": "https://localhost:8080/"
        },
        "id": "gkCOEEShRNPN",
        "outputId": "cf46e70f-b293-4341-a005-397193ba3863"
      },
      "execution_count": null,
      "outputs": [
        {
          "output_type": "stream",
          "name": "stderr",
          "text": [
            "/usr/local/lib/python3.7/dist-packages/numpy/lib/function_base.py:2691: RuntimeWarning: invalid value encountered in true_divide\n",
            "  c /= stddev[:, None]\n",
            "/usr/local/lib/python3.7/dist-packages/numpy/lib/function_base.py:2692: RuntimeWarning: invalid value encountered in true_divide\n",
            "  c /= stddev[None, :]\n"
          ]
        }
      ]
    },
    {
      "cell_type": "code",
      "source": [
        "lista"
      ],
      "metadata": {
        "colab": {
          "base_uri": "https://localhost:8080/"
        },
        "id": "n8gPxLU6RKYE",
        "outputId": "814d72d4-fe24-44a6-aad0-9333e8f6540d"
      },
      "execution_count": null,
      "outputs": [
        {
          "output_type": "execute_result",
          "data": {
            "text/plain": [
              "[nan,\n",
              " nan,\n",
              " nan,\n",
              " nan,\n",
              " nan,\n",
              " nan,\n",
              " nan,\n",
              " nan,\n",
              " nan,\n",
              " -0.026740703196259125,\n",
              " 0.05048237426563499,\n",
              " 0.11587141588050737,\n",
              " -0.16020988470155292,\n",
              " -0.3378276736503753,\n",
              " -0.06373819404509316,\n",
              " 0.17328276067614273,\n",
              " 0.039489854729695975,\n",
              " -0.16220891118260836,\n",
              " 0.04054792443093465,\n",
              " 0.09260602811936916,\n",
              " 0.07646127950598318,\n",
              " nan,\n",
              " nan,\n",
              " nan,\n",
              " nan,\n",
              " nan,\n",
              " nan,\n",
              " nan,\n",
              " nan,\n",
              " nan]"
            ]
          },
          "metadata": {},
          "execution_count": 128
        }
      ]
    },
    {
      "cell_type": "code",
      "source": [
        "lista2 = []\n",
        "for i in range(Real.shape[0]):  #for i in range(Residuals.shape[0]):\n",
        "  a = Real[i,:,:,0].reshape(-1)\n",
        "  logico = a>0\n",
        "\n",
        "  b = (Real[i,:,:,0].reshape(-1)) # b = (Residuals[i,:,:,0].reshape(-1))\n",
        "  b = b/(a+10**(-4))\n",
        "  b = b[logico]\n",
        "\n",
        "  c = Previsao[i,:,:,0].reshape(-1)\n",
        "  c = c[logico]\n",
        "\n",
        "  lista2.append(np.corrcoef(c, b)[0,1])"
      ],
      "metadata": {
        "colab": {
          "base_uri": "https://localhost:8080/"
        },
        "id": "otnVYAzpN4tP",
        "outputId": "a5636caa-2861-42f4-c4b1-a33edcf20166"
      },
      "execution_count": null,
      "outputs": [
        {
          "output_type": "stream",
          "name": "stderr",
          "text": [
            "/usr/local/lib/python3.7/dist-packages/numpy/lib/function_base.py:380: RuntimeWarning: Mean of empty slice.\n",
            "  avg = a.mean(axis)\n",
            "/usr/local/lib/python3.7/dist-packages/numpy/core/_methods.py:182: RuntimeWarning: invalid value encountered in true_divide\n",
            "  ret, rcount, out=ret, casting='unsafe', subok=False)\n",
            "/usr/local/lib/python3.7/dist-packages/numpy/lib/function_base.py:2683: RuntimeWarning: Degrees of freedom <= 0 for slice\n",
            "  c = cov(x, y, rowvar, dtype=dtype)\n",
            "/usr/local/lib/python3.7/dist-packages/numpy/lib/function_base.py:2542: RuntimeWarning: divide by zero encountered in true_divide\n",
            "  c *= np.true_divide(1, fact)\n",
            "/usr/local/lib/python3.7/dist-packages/numpy/lib/function_base.py:2542: RuntimeWarning: invalid value encountered in multiply\n",
            "  c *= np.true_divide(1, fact)\n"
          ]
        }
      ]
    },
    {
      "cell_type": "markdown",
      "source": [
        "quando preve valor pequeno o erro relativo é muito grande, quando preve valor grande o erro relativo é pequeno\n",
        "(mais confiavel com grandes)"
      ],
      "metadata": {
        "id": "fHXztizJVMmq"
      }
    },
    {
      "cell_type": "markdown",
      "source": [
        "modelo captura o efeito mas n totalemnte, a partir do momento q tem chuva, quando n tem chuva e me devolve um valor constante(n da pra saber se é =0 ou n)\n"
      ],
      "metadata": {
        "id": "K8j0MvWTWIhf"
      }
    },
    {
      "cell_type": "code",
      "source": [
        "#quanto menor a medida maior o erro\n",
        "#superestimou chuva\n",
        "lista2"
      ],
      "metadata": {
        "colab": {
          "base_uri": "https://localhost:8080/"
        },
        "id": "Xu9KvFVxUhTu",
        "outputId": "847a3d7a-4340-4784-dd37-53a1c11e1ee5"
      },
      "execution_count": null,
      "outputs": [
        {
          "output_type": "execute_result",
          "data": {
            "text/plain": [
              "[nan,\n",
              " nan,\n",
              " nan,\n",
              " nan,\n",
              " nan,\n",
              " nan,\n",
              " nan,\n",
              " nan,\n",
              " nan,\n",
              " 0.02674037052563029,\n",
              " -0.05048298704527551,\n",
              " -0.07307793100963844,\n",
              " -0.1594607814338085,\n",
              " -0.33628612231003685,\n",
              " -0.11974018273229534,\n",
              " 0.07725564422563778,\n",
              " 0.1563602293150928,\n",
              " 0.036159272056852994,\n",
              " -0.09224267803805401,\n",
              " 0.026740766677665506,\n",
              " 0.02674065812266612,\n",
              " nan,\n",
              " nan,\n",
              " nan,\n",
              " nan,\n",
              " nan,\n",
              " nan,\n",
              " nan,\n",
              " nan,\n",
              " nan]"
            ]
          },
          "metadata": {},
          "execution_count": 130
        }
      ]
    },
    {
      "cell_type": "code",
      "source": [
        "a.shape"
      ],
      "metadata": {
        "colab": {
          "base_uri": "https://localhost:8080/"
        },
        "id": "i20hUKtaTdqi",
        "outputId": "f7525348-e4da-4085-bda5-9bd74de66ecd"
      },
      "execution_count": null,
      "outputs": [
        {
          "output_type": "execute_result",
          "data": {
            "text/plain": [
              "(540,)"
            ]
          },
          "metadata": {},
          "execution_count": 131
        }
      ]
    },
    {
      "cell_type": "code",
      "source": [
        "b.shape"
      ],
      "metadata": {
        "colab": {
          "base_uri": "https://localhost:8080/"
        },
        "id": "eJieI0E8TgWI",
        "outputId": "84bcad7f-7178-47c9-cf14-fd71fe968214"
      },
      "execution_count": null,
      "outputs": [
        {
          "output_type": "execute_result",
          "data": {
            "text/plain": [
              "(0,)"
            ]
          },
          "metadata": {},
          "execution_count": 132
        }
      ]
    },
    {
      "cell_type": "code",
      "source": [
        "Residuals[i].reshape(-1).shape"
      ],
      "metadata": {
        "colab": {
          "base_uri": "https://localhost:8080/"
        },
        "id": "0YVfoYxhTmst",
        "outputId": "8d536ace-8045-4ed5-84f2-e8aed40007b2"
      },
      "execution_count": null,
      "outputs": [
        {
          "output_type": "execute_result",
          "data": {
            "text/plain": [
              "(540,)"
            ]
          },
          "metadata": {},
          "execution_count": 133
        }
      ]
    },
    {
      "cell_type": "code",
      "source": [
        "i=21\n",
        "a = Real[i,:,:,0].reshape(-1)\n",
        "logico = a>0\n",
        "\n",
        "logico"
      ],
      "metadata": {
        "colab": {
          "base_uri": "https://localhost:8080/"
        },
        "id": "wCkGAKlSSClb",
        "outputId": "4aa80cae-9b81-49ec-a9f6-083ef0de8dbc"
      },
      "execution_count": null,
      "outputs": [
        {
          "output_type": "execute_result",
          "data": {
            "text/plain": [
              "array([False, False, False, False, False, False, False, False, False,\n",
              "       False, False, False, False, False, False, False, False, False,\n",
              "       False, False, False, False, False, False, False, False, False,\n",
              "       False, False, False, False, False, False, False, False, False,\n",
              "       False, False, False, False, False, False, False, False, False,\n",
              "       False, False, False, False, False, False, False, False, False,\n",
              "       False, False, False, False, False, False, False, False, False,\n",
              "       False, False, False, False, False, False, False, False, False,\n",
              "       False, False, False, False, False, False, False, False, False,\n",
              "       False, False, False, False, False, False, False, False, False,\n",
              "       False, False, False, False, False, False, False, False, False,\n",
              "       False, False, False, False, False, False, False, False, False,\n",
              "       False, False, False, False, False, False, False, False, False,\n",
              "       False, False, False, False, False, False, False, False, False,\n",
              "       False, False, False, False, False, False, False, False, False,\n",
              "       False, False, False, False, False, False, False, False, False,\n",
              "       False, False, False, False, False, False, False, False, False,\n",
              "       False, False, False, False, False, False, False, False, False,\n",
              "       False, False, False, False, False, False, False, False, False,\n",
              "       False, False, False, False, False, False, False, False, False,\n",
              "       False, False, False, False, False, False, False, False, False,\n",
              "       False, False, False, False, False, False, False, False, False,\n",
              "       False, False, False, False, False, False, False, False, False,\n",
              "       False, False, False, False, False, False, False, False, False,\n",
              "       False, False, False, False, False, False, False, False, False,\n",
              "       False, False, False, False, False, False, False, False, False,\n",
              "       False, False, False, False, False, False, False, False, False,\n",
              "       False, False, False, False, False, False, False, False, False,\n",
              "       False, False, False, False, False, False, False, False, False,\n",
              "       False, False, False, False, False, False, False, False, False,\n",
              "       False, False, False, False, False, False, False, False, False,\n",
              "       False, False, False, False, False, False, False, False, False,\n",
              "       False, False, False, False, False, False, False, False, False,\n",
              "       False, False, False, False, False, False, False, False, False,\n",
              "       False, False, False, False, False, False, False, False, False,\n",
              "       False, False, False, False, False, False, False, False, False,\n",
              "       False, False, False, False, False, False, False, False, False,\n",
              "       False, False, False, False, False, False, False, False, False,\n",
              "       False, False, False, False, False, False, False, False, False,\n",
              "       False, False, False, False, False, False, False, False, False,\n",
              "       False, False, False, False, False, False, False, False, False,\n",
              "       False, False, False, False, False, False, False, False, False,\n",
              "       False, False, False, False, False, False, False, False, False,\n",
              "       False, False, False, False, False, False, False, False, False,\n",
              "       False, False, False, False, False, False, False, False, False,\n",
              "       False, False, False, False, False, False, False, False, False,\n",
              "       False, False, False, False, False, False, False, False, False,\n",
              "       False, False, False, False, False, False, False, False, False,\n",
              "       False, False, False, False, False, False, False, False, False,\n",
              "       False, False, False, False, False, False, False, False, False,\n",
              "       False, False, False, False, False, False, False, False, False,\n",
              "       False, False, False, False, False, False, False, False, False,\n",
              "       False, False, False, False, False, False, False, False, False,\n",
              "       False, False, False, False, False, False, False, False, False,\n",
              "       False, False, False, False, False, False, False, False, False,\n",
              "       False, False, False, False, False, False, False, False, False,\n",
              "       False, False, False, False, False, False, False, False, False,\n",
              "       False, False, False, False, False, False, False, False, False,\n",
              "       False, False, False, False, False, False, False, False, False,\n",
              "       False, False, False, False, False, False, False, False, False])"
            ]
          },
          "metadata": {},
          "execution_count": 134
        }
      ]
    },
    {
      "cell_type": "code",
      "source": [
        "lista2 "
      ],
      "metadata": {
        "colab": {
          "base_uri": "https://localhost:8080/"
        },
        "id": "ERHJjYeFREiC",
        "outputId": "1c2aeef0-fcaf-4ac6-ee01-2e6dbd01696a"
      },
      "execution_count": null,
      "outputs": [
        {
          "output_type": "execute_result",
          "data": {
            "text/plain": [
              "[nan,\n",
              " nan,\n",
              " nan,\n",
              " nan,\n",
              " nan,\n",
              " nan,\n",
              " nan,\n",
              " nan,\n",
              " nan,\n",
              " 0.02674037052563029,\n",
              " -0.05048298704527551,\n",
              " -0.07307793100963844,\n",
              " -0.1594607814338085,\n",
              " -0.33628612231003685,\n",
              " -0.11974018273229534,\n",
              " 0.07725564422563778,\n",
              " 0.1563602293150928,\n",
              " 0.036159272056852994,\n",
              " -0.09224267803805401,\n",
              " 0.026740766677665506,\n",
              " 0.02674065812266612,\n",
              " nan,\n",
              " nan,\n",
              " nan,\n",
              " nan,\n",
              " nan,\n",
              " nan,\n",
              " nan,\n",
              " nan,\n",
              " nan]"
            ]
          },
          "metadata": {},
          "execution_count": 135
        }
      ]
    },
    {
      "cell_type": "code",
      "source": [],
      "metadata": {
        "id": "mS9wsDuxPIdm"
      },
      "execution_count": null,
      "outputs": []
    },
    {
      "cell_type": "code",
      "source": [
        "#erro relativo\n",
        "Residuals/(Real + 10**(-4))"
      ],
      "metadata": {
        "colab": {
          "base_uri": "https://localhost:8080/"
        },
        "id": "mUSH0kb2MV8z",
        "outputId": "81fc2f14-bdad-43b3-ba1b-79913bf12b90"
      },
      "execution_count": null,
      "outputs": [
        {
          "output_type": "execute_result",
          "data": {
            "text/plain": [
              "array([[[[ 459.30661261],\n",
              "         [  12.5785917 ],\n",
              "         [ 351.81298852],\n",
              "         ...,\n",
              "         [ 363.11894655],\n",
              "         [ 277.71294117],\n",
              "         [ 490.0092259 ]],\n",
              "\n",
              "        [[ 391.43756032],\n",
              "         [ 267.25307107],\n",
              "         [ 654.46704626],\n",
              "         ...,\n",
              "         [ 466.3579911 ],\n",
              "         [  59.456788  ],\n",
              "         [ 359.80150104]],\n",
              "\n",
              "        [[ 684.39275026],\n",
              "         [ 344.0759331 ],\n",
              "         [ 687.36463785],\n",
              "         ...,\n",
              "         [ 508.11812282],\n",
              "         [ 394.75269616],\n",
              "         [ 374.14703518]],\n",
              "\n",
              "        ...,\n",
              "\n",
              "        [[ 652.36590803],\n",
              "         [ 357.91292787],\n",
              "         [ 484.588705  ],\n",
              "         ...,\n",
              "         [ 463.28283846],\n",
              "         [ 298.69504273],\n",
              "         [ 342.01804549]],\n",
              "\n",
              "        [[1075.68323612],\n",
              "         [ 926.77563429],\n",
              "         [ 873.16796184],\n",
              "         ...,\n",
              "         [ 711.11008525],\n",
              "         [ 658.11261535],\n",
              "         [ 553.07816714]],\n",
              "\n",
              "        [[ 702.2254169 ],\n",
              "         [ 867.36008525],\n",
              "         [1289.15727139],\n",
              "         ...,\n",
              "         [1324.35441017],\n",
              "         [ 971.0931778 ],\n",
              "         [ 673.0414927 ]]],\n",
              "\n",
              "\n",
              "       [[[ 459.30661261],\n",
              "         [  12.5785917 ],\n",
              "         [ 351.81298852],\n",
              "         ...,\n",
              "         [ 363.11894655],\n",
              "         [ 277.71294117],\n",
              "         [ 490.0092259 ]],\n",
              "\n",
              "        [[ 391.43756032],\n",
              "         [ 267.25307107],\n",
              "         [ 654.46704626],\n",
              "         ...,\n",
              "         [ 466.3579911 ],\n",
              "         [  59.456788  ],\n",
              "         [ 359.80150104]],\n",
              "\n",
              "        [[ 684.39275026],\n",
              "         [ 344.0759331 ],\n",
              "         [ 687.36463785],\n",
              "         ...,\n",
              "         [ 508.11812282],\n",
              "         [ 394.75269616],\n",
              "         [ 374.14703518]],\n",
              "\n",
              "        ...,\n",
              "\n",
              "        [[ 652.36590803],\n",
              "         [ 357.91292787],\n",
              "         [ 484.588705  ],\n",
              "         ...,\n",
              "         [ 463.28283846],\n",
              "         [ 298.69504273],\n",
              "         [ 342.01804549]],\n",
              "\n",
              "        [[1075.68323612],\n",
              "         [ 926.77563429],\n",
              "         [ 873.16796184],\n",
              "         ...,\n",
              "         [ 711.11008525],\n",
              "         [ 658.11261535],\n",
              "         [ 553.07816714]],\n",
              "\n",
              "        [[ 702.2254169 ],\n",
              "         [ 867.36008525],\n",
              "         [1289.15727139],\n",
              "         ...,\n",
              "         [1324.35441017],\n",
              "         [ 971.0931778 ],\n",
              "         [ 673.0414927 ]]],\n",
              "\n",
              "\n",
              "       [[[ 459.30661261],\n",
              "         [  12.5785917 ],\n",
              "         [ 351.81298852],\n",
              "         ...,\n",
              "         [ 363.11894655],\n",
              "         [ 277.71294117],\n",
              "         [ 490.0092259 ]],\n",
              "\n",
              "        [[ 391.43756032],\n",
              "         [ 267.25307107],\n",
              "         [ 654.46704626],\n",
              "         ...,\n",
              "         [ 466.3579911 ],\n",
              "         [  59.456788  ],\n",
              "         [ 359.80150104]],\n",
              "\n",
              "        [[ 684.39275026],\n",
              "         [ 344.0759331 ],\n",
              "         [ 687.36463785],\n",
              "         ...,\n",
              "         [ 508.11812282],\n",
              "         [ 394.75269616],\n",
              "         [ 374.14703518]],\n",
              "\n",
              "        ...,\n",
              "\n",
              "        [[ 652.36590803],\n",
              "         [ 357.91292787],\n",
              "         [ 484.588705  ],\n",
              "         ...,\n",
              "         [ 463.28283846],\n",
              "         [ 298.69504273],\n",
              "         [ 342.01804549]],\n",
              "\n",
              "        [[1075.68323612],\n",
              "         [ 926.77563429],\n",
              "         [ 873.16796184],\n",
              "         ...,\n",
              "         [ 711.11008525],\n",
              "         [ 658.11261535],\n",
              "         [ 553.07816714]],\n",
              "\n",
              "        [[ 702.2254169 ],\n",
              "         [ 867.36008525],\n",
              "         [1289.15727139],\n",
              "         ...,\n",
              "         [1324.35441017],\n",
              "         [ 971.0931778 ],\n",
              "         [ 673.0414927 ]]],\n",
              "\n",
              "\n",
              "       ...,\n",
              "\n",
              "\n",
              "       [[[ 459.30661261],\n",
              "         [  12.5785917 ],\n",
              "         [ 351.81298852],\n",
              "         ...,\n",
              "         [ 363.11894655],\n",
              "         [ 277.71294117],\n",
              "         [ 490.0092259 ]],\n",
              "\n",
              "        [[ 391.43756032],\n",
              "         [ 267.25307107],\n",
              "         [ 654.46704626],\n",
              "         ...,\n",
              "         [ 466.3579911 ],\n",
              "         [  59.456788  ],\n",
              "         [ 359.80150104]],\n",
              "\n",
              "        [[ 684.39275026],\n",
              "         [ 344.0759331 ],\n",
              "         [ 687.36463785],\n",
              "         ...,\n",
              "         [ 508.11812282],\n",
              "         [ 394.75269616],\n",
              "         [ 374.14703518]],\n",
              "\n",
              "        ...,\n",
              "\n",
              "        [[ 652.36590803],\n",
              "         [ 357.91292787],\n",
              "         [ 484.588705  ],\n",
              "         ...,\n",
              "         [ 463.28283846],\n",
              "         [ 298.69504273],\n",
              "         [ 342.01804549]],\n",
              "\n",
              "        [[1075.68323612],\n",
              "         [ 926.77563429],\n",
              "         [ 873.16796184],\n",
              "         ...,\n",
              "         [ 711.11008525],\n",
              "         [ 658.11261535],\n",
              "         [ 553.07816714]],\n",
              "\n",
              "        [[ 702.2254169 ],\n",
              "         [ 867.36008525],\n",
              "         [1289.15727139],\n",
              "         ...,\n",
              "         [1324.35441017],\n",
              "         [ 971.0931778 ],\n",
              "         [ 673.0414927 ]]],\n",
              "\n",
              "\n",
              "       [[[ 459.30661261],\n",
              "         [  12.5785917 ],\n",
              "         [ 351.81298852],\n",
              "         ...,\n",
              "         [ 363.11894655],\n",
              "         [ 277.71294117],\n",
              "         [ 490.0092259 ]],\n",
              "\n",
              "        [[ 391.43756032],\n",
              "         [ 267.25307107],\n",
              "         [ 654.46704626],\n",
              "         ...,\n",
              "         [ 466.3579911 ],\n",
              "         [  59.456788  ],\n",
              "         [ 359.80150104]],\n",
              "\n",
              "        [[ 684.39275026],\n",
              "         [ 344.0759331 ],\n",
              "         [ 687.36463785],\n",
              "         ...,\n",
              "         [ 508.11812282],\n",
              "         [ 394.75269616],\n",
              "         [ 374.14703518]],\n",
              "\n",
              "        ...,\n",
              "\n",
              "        [[ 652.36590803],\n",
              "         [ 357.91292787],\n",
              "         [ 484.588705  ],\n",
              "         ...,\n",
              "         [ 463.28283846],\n",
              "         [ 298.69504273],\n",
              "         [ 342.01804549]],\n",
              "\n",
              "        [[1075.68323612],\n",
              "         [ 926.77563429],\n",
              "         [ 873.16796184],\n",
              "         ...,\n",
              "         [ 711.11008525],\n",
              "         [ 658.11261535],\n",
              "         [ 553.07816714]],\n",
              "\n",
              "        [[ 702.2254169 ],\n",
              "         [ 867.36008525],\n",
              "         [1289.15727139],\n",
              "         ...,\n",
              "         [1324.35441017],\n",
              "         [ 971.0931778 ],\n",
              "         [ 673.0414927 ]]],\n",
              "\n",
              "\n",
              "       [[[ 305.52240089],\n",
              "         [ 336.49995923],\n",
              "         [  20.43355256],\n",
              "         ...,\n",
              "         [ 148.0788365 ],\n",
              "         [ 121.97762728],\n",
              "         [ 223.28143939]],\n",
              "\n",
              "        [[  77.34332234],\n",
              "         [ 518.08856428],\n",
              "         [ 511.80999726],\n",
              "         ...,\n",
              "         [ 276.07966214],\n",
              "         [  28.93980592],\n",
              "         [ 319.64659691]],\n",
              "\n",
              "        [[ 878.43827903],\n",
              "         [ 525.60940385],\n",
              "         [1007.42392242],\n",
              "         ...,\n",
              "         [ 829.77443933],\n",
              "         [ 758.61737132],\n",
              "         [  74.23579693]],\n",
              "\n",
              "        ...,\n",
              "\n",
              "        [[ 638.52891326],\n",
              "         [ 561.01042777],\n",
              "         [1014.36898112],\n",
              "         ...,\n",
              "         [ 893.69028807],\n",
              "         [ 414.00536895],\n",
              "         [  73.5200569 ]],\n",
              "\n",
              "        [[ 875.08842349],\n",
              "         [ 920.3594178 ],\n",
              "         [ 662.2363627 ],\n",
              "         ...,\n",
              "         [ 578.67787778],\n",
              "         [ 706.79619908],\n",
              "         [ 342.42019057]],\n",
              "\n",
              "        [[ 591.80684388],\n",
              "         [ 705.15610278],\n",
              "         [1228.26531529],\n",
              "         ...,\n",
              "         [1304.3653965 ],\n",
              "         [ 857.69996047],\n",
              "         [ 394.93765682]]]])"
            ]
          },
          "metadata": {},
          "execution_count": 136
        }
      ]
    },
    {
      "cell_type": "code",
      "source": [
        "#erro relativo vs. real"
      ],
      "metadata": {
        "id": "BxqigNgBNm93"
      },
      "execution_count": null,
      "outputs": []
    },
    {
      "cell_type": "code",
      "metadata": {
        "id": "IwKQTkkPD-pl",
        "colab": {
          "base_uri": "https://localhost:8080/",
          "height": 1000
        },
        "outputId": "b514031a-f9da-44e9-9bfd-103899c4c97d"
      },
      "source": [
        "import matplotlib.pyplot as plt\n",
        "for i in range(Residuals.shape[0]):\n",
        "    plt.imshow(Residuals[i,:,:,0])\n",
        "    plt.colorbar()\n",
        "    plt.show()"
      ],
      "execution_count": null,
      "outputs": [
        {
          "output_type": "display_data",
          "data": {
            "text/plain": [
              "<Figure size 432x288 with 2 Axes>"
            ],
            "image/png": "[encoded data removed]"
          },
          "metadata": {
            "needs_background": "light"
          }
        },
        {
          "output_type": "display_data",
          "data": {
            "text/plain": [
              "<Figure size 432x288 with 2 Axes>"
            ],
            "image/png": "[encoded data removed]"
          },
          "metadata": {
            "needs_background": "light"
          }
        },
        {
          "output_type": "display_data",
          "data": {
            "text/plain": [
              "<Figure size 432x288 with 2 Axes>"
            ],
            "image/png": "[encoded data removed]"
          },
          "metadata": {
            "needs_background": "light"
          }
        },
        {
          "output_type": "display_data",
          "data": {
            "text/plain": [
              "<Figure size 432x288 with 2 Axes>"
            ],
            "image/png": "[encoded data removed]"
          },
          "metadata": {
            "needs_background": "light"
          }
        },
        {
          "output_type": "display_data",
          "data": {
            "text/plain": [
              "<Figure size 432x288 with 2 Axes>"
            ],
            "image/png": "[encoded data removed]"
          },
          "metadata": {
            "needs_background": "light"
          }
        },
        {
          "output_type": "display_data",
          "data": {
            "text/plain": [
              "<Figure size 432x288 with 2 Axes>"
            ],
            "image/png": "[encoded data removed]"
          },
          "metadata": {
            "needs_background": "light"
          }
        },
        {
          "output_type": "display_data",
          "data": {
            "text/plain": [
              "<Figure size 432x288 with 2 Axes>"
            ],
            "image/png": "[encoded data removed]"
          },
          "metadata": {
            "needs_background": "light"
          }
        },
        {
          "output_type": "display_data",
          "data": {
            "text/plain": [
              "<Figure size 432x288 with 2 Axes>"
            ],
            "image/png": "[encoded data removed]"
          },
          "metadata": {
            "needs_background": "light"
          }
        },
        {
          "output_type": "display_data",
          "data": {
            "text/plain": [
              "<Figure size 432x288 with 2 Axes>"
            ],
            "image/png": "[encoded data removed]"
          },
          "metadata": {
            "needs_background": "light"
          }
        },
        {
          "output_type": "display_data",
          "data": {
            "text/plain": [
              "<Figure size 432x288 with 2 Axes>"
            ],
            "image/png": "[encoded data removed]"
          },
          "metadata": {
            "needs_background": "light"
          }
        },
        {
          "output_type": "display_data",
          "data": {
            "text/plain": [
              "<Figure size 432x288 with 2 Axes>"
            ],
            "image/png": "[encoded data removed]"
          },
          "metadata": {
            "needs_background": "light"
          }
        },
        {
          "output_type": "display_data",
          "data": {
            "text/plain": [
              "<Figure size 432x288 with 2 Axes>"
            ],
            "image/png": "[encoded data removed]"
          },
          "metadata": {
            "needs_background": "light"
          }
        },
        {
          "output_type": "display_data",
          "data": {
            "text/plain": [
              "<Figure size 432x288 with 2 Axes>"
            ],
            "image/png": "[encoded data removed]"
          },
          "metadata": {
            "needs_background": "light"
          }
        },
        {
          "output_type": "display_data",
          "data": {
            "text/plain": [
              "<Figure size 432x288 with 2 Axes>"
            ],
            "image/png": "[encoded data removed]"
          },
          "metadata": {
            "needs_background": "light"
          }
        },
        {
          "output_type": "display_data",
          "data": {
            "text/plain": [
              "<Figure size 432x288 with 2 Axes>"
            ],
            "image/png": "[encoded data removed]"
          },
          "metadata": {
            "needs_background": "light"
          }
        },
        {
          "output_type": "display_data",
          "data": {
            "text/plain": [
              "<Figure size 432x288 with 2 Axes>"
            ],
            "image/png": "[encoded data removed]"
          },
          "metadata": {
            "needs_background": "light"
          }
        },
        {
          "output_type": "display_data",
          "data": {
            "text/plain": [
              "<Figure size 432x288 with 2 Axes>"
            ],
            "image/png": "[encoded data removed]"
          },
          "metadata": {
            "needs_background": "light"
          }
        },
        {
          "output_type": "display_data",
          "data": {
            "text/plain": [
              "<Figure size 432x288 with 2 Axes>"
            ],
            "image/png": "[encoded data removed]"
          },
          "metadata": {
            "needs_background": "light"
          }
        },
        {
          "output_type": "display_data",
          "data": {
            "text/plain": [
              "<Figure size 432x288 with 2 Axes>"
            ],
            "image/png": "[encoded data removed]"
          },
          "metadata": {
            "needs_background": "light"
          }
        },
        {
          "output_type": "display_data",
          "data": {
            "text/plain": [
              "<Figure size 432x288 with 2 Axes>"
            ],
            "image/png": "[encoded data removed]"
          },
          "metadata": {
            "needs_background": "light"
          }
        },
        {
          "output_type": "display_data",
          "data": {
            "text/plain": [
              "<Figure size 432x288 with 2 Axes>"
            ],
            "image/png": "[encoded data removed]"
          },
          "metadata": {
            "needs_background": "light"
          }
        },
        {
          "output_type": "display_data",
          "data": {
            "text/plain": [
              "<Figure size 432x288 with 2 Axes>"
            ],
            "image/png": "[encoded data removed]"
          },
          "metadata": {
            "needs_background": "light"
          }
        },
        {
          "output_type": "display_data",
          "data": {
            "text/plain": [
              "<Figure size 432x288 with 2 Axes>"
            ],
            "image/png": "[encoded data removed]"
          },
          "metadata": {
            "needs_background": "light"
          }
        },
        {
          "output_type": "display_data",
          "data": {
            "text/plain": [
              "<Figure size 432x288 with 2 Axes>"
            ],
            "image/png": "[encoded data removed]"
          },
          "metadata": {
            "needs_background": "light"
          }
        },
        {
          "output_type": "display_data",
          "data": {
            "text/plain": [
              "<Figure size 432x288 with 2 Axes>"
            ],
            "image/png": "[encoded data removed]"
          },
          "metadata": {
            "needs_background": "light"
          }
        },
        {
          "output_type": "display_data",
          "data": {
            "text/plain": [
              "<Figure size 432x288 with 2 Axes>"
            ],
            "image/png": "[encoded data removed]"
          },
          "metadata": {
            "needs_background": "light"
          }
        },
        {
          "output_type": "display_data",
          "data": {
            "text/plain": [
              "<Figure size 432x288 with 2 Axes>"
            ],
            "image/png": "[encoded data removed]"
          },
          "metadata": {
            "needs_background": "light"
          }
        },
        {
          "output_type": "display_data",
          "data": {
            "text/plain": [
              "<Figure size 432x288 with 2 Axes>"
            ],
            "image/png": "[encoded data removed]"
          },
          "metadata": {
            "needs_background": "light"
          }
        },
        {
          "output_type": "display_data",
          "data": {
            "text/plain": [
              "<Figure size 432x288 with 2 Axes>"
            ],
            "image/png": "[encoded data removed]"
          },
          "metadata": {
            "needs_background": "light"
          }
        },
        {
          "output_type": "display_data",
          "data": {
            "text/plain": [
              "<Figure size 432x288 with 2 Axes>"
            ],
            "image/png": "[encoded data removed]"
          },
          "metadata": {
            "needs_background": "light"
          }
        }
      ]
    },
    {
      "cell_type": "code",
      "metadata": {
        "id": "GXZtaq-RD-pm",
        "colab": {
          "base_uri": "https://localhost:8080/",
          "height": 282
        },
        "outputId": "faa0c454-441d-4eaf-ddb9-02ee21becedb"
      },
      "source": [
        "i,j=1,2\n",
        "plt.plot(Real[:,i,j,0],label='Real')\n",
        "plt.plot(Previsao[:,i,j,0],label='Previsto')\n",
        "plt.legend()"
      ],
      "execution_count": null,
      "outputs": [
        {
          "output_type": "execute_result",
          "data": {
            "text/plain": [
              "<matplotlib.legend.Legend at 0x7f1a270b7590>"
            ]
          },
          "metadata": {},
          "execution_count": 139
        },
        {
          "output_type": "display_data",
          "data": {
            "text/plain": [
              "<Figure size 432x288 with 1 Axes>"
            ],
            "image/png": "[encoded data removed]"
          },
          "metadata": {
            "needs_background": "light"
          }
        }
      ]
    }
  ]
}